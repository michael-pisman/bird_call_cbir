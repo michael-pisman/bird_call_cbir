{
 "cells": [
  {
   "cell_type": "markdown",
   "id": "7a9e8a13-33dd-415e-a062-f5bd47673fe2",
   "metadata": {},
   "source": [
    "# This Notebook computes the Gabor texture features from the ROI images."
   ]
  },
  {
   "cell_type": "code",
   "execution_count": null,
   "id": "90d88425",
   "metadata": {},
   "outputs": [],
   "source": [
    "# Import section\n",
    "import numpy as np\n",
    "import matplotlib.pyplot as plt\n",
    "import os\n",
    "import pandas as pd\n",
    "from skimage.filters import gabor_kernel\n",
    "from scipy import signal as sg\n",
    "import shutil"
   ]
  },
  {
   "cell_type": "code",
   "execution_count": null,
   "id": "65fbe275",
   "metadata": {},
   "outputs": [],
   "source": [
    "cwd=os.getcwd()"
   ]
  },
  {
   "cell_type": "code",
   "execution_count": null,
   "id": "408518c3",
   "metadata": {},
   "outputs": [],
   "source": [
    "# Create folders if don't exist.\n",
    "try:\n",
    "    os.makedirs(cwd+'/features')\n",
    "    os.makedirs(cwd+'/images')\n",
    "except:\n",
    "    pass\n",
    "\n",
    "#Logic to copy ROI's calculated to one folder named 'image' for feature extraction\n",
    "if len(os.listdir(cwd+'/images'))==0:\n",
    "    for i in os.listdir(cwd+'/ROIs'):\n",
    "        if os.path.isdir(cwd+'/ROIs/'+i):\n",
    "            if len(os.listdir(cwd+'/ROIs/'+i+'/ROIs/'))==0:\n",
    "                print(\"Folder of ROI empty\")\n",
    "            else:\n",
    "                for j in os.listdir(cwd+'/ROIs/'+i+'/ROIs/'):\n",
    "                    shutil.copy(cwd+'/ROIs/'+i+'/ROIs/'+j,cwd+'/images')\n",
    "else:\n",
    "    pass\n",
    "#     print(\"Files exist in image folder\")\n",
    "\n",
    "# Location of images.\n",
    "image_dir = cwd + '/images/'\n",
    "\n",
    "# Location of where to write features.\n",
    "feature_dir = cwd + '/features/'\n",
    "\n",
    "# The .csv file containing the image names and classes.\n",
    "image_file = cwd + '/image_names_classes.csv'"
   ]
  },
  {
   "cell_type": "code",
   "execution_count": null,
   "id": "d95c065c",
   "metadata": {},
   "outputs": [],
   "source": [
    "# Number of images.\n",
    "n_images = 218\n",
    "\n",
    "# Read image names and classes .csv file.\n",
    "image_names_classes = pd.read_csv(image_file, header=None )\n"
   ]
  },
  {
   "cell_type": "code",
   "execution_count": null,
   "id": "97f3ebb3",
   "metadata": {},
   "outputs": [],
   "source": [
    "# Create Gabor filter bank kernels.\n",
    "kernels = []\n",
    "\n",
    "# EXPERIMENT WITH THE NUMBER OF ORIENTATIONS AND SCALES.\n",
    "# This code will create a feature file with the name Gabor_Y_X_.txt\n",
    "# where X is the number of scales and Y number of orientations.\n",
    "\n",
    "nscales = 2\n",
    "norientations = 3\n",
    "\n",
    "min_frequency = 0.05\n",
    "max_frequency = 0.4\n",
    "\n",
    "for orientation in range(norientations):\n",
    "    theta = (orientation / norientations) * np.pi\n",
    "    for scale in range(nscales):\n",
    "        frequency = min_frequency + scale*((max_frequency - min_frequency)/(nscales-1))\n",
    "        kernel = gabor_kernel(frequency, theta=theta)\n",
    "        kernels.append(kernel)\n",
    "        #print('orientation='+str(orientation)+': theta='+str(theta)) \n",
    "        #print('scale='+str(scale)+': frequency='+str(frequency)) \n",
    "\n",
    "# Visualize the filters as images. Note that the filters have different sizes--see the axes in the plots below.\n",
    "# The filters are complex so first visualize the real parts and then the imaginary parts.\n",
    "fig, axs = plt.subplots(1, len(kernels), figsize=(20,20))\n",
    "for k, kernel in enumerate(kernels):\n",
    "    axs[k].imshow(np.real(kernel),cmap='gray')\n",
    "    \n",
    "fig, axs = plt.subplots(1, len(kernels), figsize=(20,20))\n",
    "for k, kernel in enumerate(kernels):\n",
    "    axs[k].imshow(np.imag(kernel),cmap='gray')\n"
   ]
  },
  {
   "cell_type": "code",
   "execution_count": null,
   "id": "05d22bdf",
   "metadata": {},
   "outputs": [],
   "source": [
    "# Mean and standard deviation will be computed for each filter output.\n",
    "fdim = 2 * len(kernels)\n",
    "\n",
    "features = np.zeros((n_images, fdim))"
   ]
  },
  {
   "cell_type": "code",
   "execution_count": null,
   "id": "35f398bc",
   "metadata": {},
   "outputs": [],
   "source": [
    "def compute_feats(image, kernels):\n",
    "    feats = np.zeros((len(kernels) * 2), dtype=np.double)\n",
    "    for k, kernel in enumerate(kernels):\n",
    "        filtered = sg.convolve(image, kernel)\n",
    "        feats[2*k] = np.abs(filtered).mean()\n",
    "        feats[2*k+1] = np.abs(filtered).std()\n",
    "    return feats"
   ]
  },
  {
   "cell_type": "code",
   "execution_count": null,
   "id": "228a42b3",
   "metadata": {},
   "outputs": [],
   "source": [
    "# Extract features for each image.\n",
    "for i in range(n_images):\n",
    "    \n",
    "    # Read the image.\n",
    "    filename = image_dir + image_names_classes[0][i]    \n",
    "    im = plt.imread(filename)\n",
    "    \n",
    "    # It turns out that the spectrogram images saved using plt.imsave have four channels\n",
    "    # RGBA. The RGB channels are each equal to the grayscale value so we can use any of them.\n",
    "    \n",
    "    features[i, :] = compute_feats(im[:,:,0], kernels)\n",
    "    \n",
    "# Save the features as a .csv file.\n",
    "gabor_filename='Gabor'+'_'+str(nscales)+'_'+str(norientations)+'.txt'\n",
    "feature_filename = feature_dir +  gabor_filename\n",
    "\n",
    "np.savetxt(feature_filename, features, delimiter=',')"
   ]
  }
 ],
 "metadata": {
  "kernelspec": {
   "display_name": "Python [conda env:base] *",
   "language": "python",
   "name": "conda-base-py"
  },
  "language_info": {
   "codemirror_mode": {
    "name": "ipython",
    "version": 3
   },
   "file_extension": ".py",
   "mimetype": "text/x-python",
   "name": "python",
   "nbconvert_exporter": "python",
   "pygments_lexer": "ipython3",
   "version": "3.12.7"
  }
 },
 "nbformat": 4,
 "nbformat_minor": 5
}
