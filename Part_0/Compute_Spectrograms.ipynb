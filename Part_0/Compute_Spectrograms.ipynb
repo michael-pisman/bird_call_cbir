{
 "cells": [
  {
   "cell_type": "markdown",
   "id": "7a9e8a13-33dd-415e-a062-f5bd47673fe2",
   "metadata": {},
   "source": [
    "# This Notebook computes the spectrograms of the 60 second audio recordings."
   ]
  },
  {
   "cell_type": "code",
   "execution_count": null,
   "id": "90d88425",
   "metadata": {},
   "outputs": [],
   "source": [
    "# Import section\n",
    "import numpy as np\n",
    "import matplotlib.pyplot as plt\n",
    "import librosa\n",
    "import os\n",
    "from scipy import signal"
   ]
  },
  {
   "cell_type": "code",
   "execution_count": null,
   "id": "5799468c",
   "metadata": {},
   "outputs": [],
   "source": [
    "# Compute Spectogram from the audio recording "
   ]
  },
  {
   "cell_type": "code",
   "execution_count": null,
   "id": "92ceb13e",
   "metadata": {},
   "outputs": [],
   "source": [
    "# Expect the sampling rate to be the same for all recordings.\n",
    "sampling_rate_expected = 44100\n",
    "\n",
    "# The window size for the spectrogram.\n",
    "window_size = 1024\n",
    "\n",
    "# The window overlap for the spectrogram.\n",
    "window_overlap = 512\n",
    "\n",
    "# The window used for the spectrogram. ('tukey', 0.25) is the default.\n",
    "window_type = signal.get_window( ('tukey', 0.25), window_size )\n",
    "window_description = 'tukey, 0.25'"
   ]
  },
  {
   "cell_type": "code",
   "execution_count": null,
   "id": "4b814932",
   "metadata": {},
   "outputs": [],
   "source": [
    "cwd=os.getcwd()\n",
    "# The directory where the .wav files are located. We will read these.\n",
    "recording_dir = cwd +'/Recordings/'\n",
    "\n",
    "# The directory where we will write the computed spectrograms as .png image files.\n",
    "spectrogram_dir = cwd +'/Spectrograms/'\n",
    "\n",
    "try:\n",
    "    os.makedirs(spectrogram_dir)\n",
    "except:\n",
    "    pass\n"
   ]
  },
  {
   "cell_type": "code",
   "execution_count": null,
   "id": "a7b7e97b",
   "metadata": {},
   "outputs": [],
   "source": [
    "# Write spectrogram parameters.\n",
    "parameters_filename = spectrogram_dir + '0_spectrogram_parameters.txt'\n",
    "spectogram_param_file = open(parameters_filename,'w')\n",
    "spectogram_param_file.write('sampling rate = '+ repr(sampling_rate_expected)+'\\n')\n",
    "spectogram_param_file.write('window size = '+ repr(window_size)+'\\n')\n",
    "spectogram_param_file.write('window overlap = '+ repr(window_overlap)+'\\n')\n",
    "spectogram_param_file.write('window overlap = '+ window_description +'\\n')\n",
    "spectogram_param_file.write('log10 of spectrum\\n')\n",
    "spectogram_param_file.close()"
   ]
  },
  {
   "cell_type": "code",
   "execution_count": null,
   "id": "0ca5fe97",
   "metadata": {},
   "outputs": [],
   "source": [
    "# Get list of recordings.\n",
    "recording_list = os.listdir(recording_dir);\n",
    "n_recordings = len(recording_list)\n",
    "print(n_recordings)"
   ]
  },
  {
   "cell_type": "code",
   "execution_count": null,
   "id": "acab8c45-5f6d-45ce-89ff-b7f85f8288cb",
   "metadata": {},
   "outputs": [],
   "source": [
    "# Read each recording and compute spectrogram\n",
    "recording_num = 0\n",
    "for recording in recording_list:\n",
    "    recording_num = recording_num + 1\n",
    "    recording_filename = recording_dir + recording\n",
    "#     print('recording '+repr(recording_num)+' of '+repr(n_recordings)+': about to read '+recording)\n",
    "    # Read the audio file. Don't change the sample rate.\n",
    "    x, sampling_rate = librosa.load(recording_filename,sr=None)\n",
    "    \n",
    "    if sampling_rate != sampling_rate_expected:\n",
    "        print('WRONG SAMPLING RATE: expected='+repr(sampling_rate_expected)+' recording='+repr(sampling_rate))\n",
    "        break\n",
    "        \n",
    "    # Compute the spectrogram.\n",
    "    w, t, s = signal.spectrogram(x, sampling_rate, window=window_type, noverlap=window_overlap, nperseg=window_size)\n",
    "    \n",
    "    # s: matrix with the 2D spectrogram (will be complex).\n",
    "    # w: vector with the frequencies spacings of the computed DFT.\n",
    "    # t: vector with the time spacings of the windows.\n",
    "\n",
    "    # Compute the spectrum of the spectrogram.\n",
    "    s_spectrum = abs(s);\n",
    "    \n",
    "    # Flip it vertically.\n",
    "    s_spectrum = np.flip(s_spectrum, 0)\n",
    "\n",
    "    # Compute log_10 of spectrogram.\n",
    "    s_spectrum_log = np.log10( s_spectrum + np.finfo(float).eps )\n",
    "    #plt.imshow(s_spectrum_log,cmap='gray')\n",
    "\n",
    "    # Normalize so values range from 0 to 1.\n",
    "    s_spectrum_log = (s_spectrum_log - np.amin(s_spectrum_log)) / (np.amax(s_spectrum_log) - np.amin(s_spectrum_log))\n",
    "\n",
    "    # Save as png file.\n",
    "    spectrogram_filename = spectrogram_dir + recording +'.png'\n",
    "    plt.imsave(spectrogram_filename, s_spectrum_log, cmap='gray')\n",
    "\n",
    "    # Save time and frequency indices.\n",
    "    spectrograminfo_filename = spectrogram_dir + recording + '_info.txt'\n",
    "    spectrograminfo_file = open(spectrograminfo_filename,'w')    \n",
    "    for i in t:\n",
    "        spectrograminfo_file.write(repr(i)+'\\n')\n",
    "    for i in w:\n",
    "        spectrograminfo_file.write(repr(i)+'\\n')\n",
    "    spectrograminfo_file.close()"
   ]
  },
  {
   "cell_type": "code",
   "execution_count": null,
   "id": "2706fbd6-bde8-4070-a148-d6340459757f",
   "metadata": {},
   "outputs": [],
   "source": []
  }
 ],
 "metadata": {
  "kernelspec": {
   "display_name": "Python [conda env:base] *",
   "language": "python",
   "name": "conda-base-py"
  },
  "language_info": {
   "codemirror_mode": {
    "name": "ipython",
    "version": 3
   },
   "file_extension": ".py",
   "mimetype": "text/x-python",
   "name": "python",
   "nbconvert_exporter": "python",
   "pygments_lexer": "ipython3",
   "version": "3.12.7"
  }
 },
 "nbformat": 4,
 "nbformat_minor": 5
}
