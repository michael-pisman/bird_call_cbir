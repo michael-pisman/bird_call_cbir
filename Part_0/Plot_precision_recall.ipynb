{
 "cells": [
  {
   "cell_type": "markdown",
   "id": "7a9e8a13-33dd-415e-a062-f5bd47673fe2",
   "metadata": {},
   "source": [
    "# This Notebook plots one or more precomputed precision recall curves."
   ]
  },
  {
   "cell_type": "code",
   "execution_count": null,
   "id": "90d88425",
   "metadata": {},
   "outputs": [],
   "source": [
    "# Import section\n",
    "import numpy as np\n",
    "import matplotlib.pyplot as plt\n",
    "import os\n",
    "import pandas as pd\n",
    "from skimage.filters import gabor_kernel\n",
    "from scipy import signal as sg\n",
    "from collections import OrderedDict\n",
    "import math"
   ]
  },
  {
   "cell_type": "code",
   "execution_count": null,
   "id": "141e9af7-56af-48e5-8367-ce9a6c8362fc",
   "metadata": {},
   "outputs": [],
   "source": [
    "pre_defined_recall = [0.0,0.1,0.2,0.3,0.4,0.5,0.6,0.7,0.8,0.9,1.0]"
   ]
  },
  {
   "cell_type": "code",
   "execution_count": null,
   "id": "45220136-960b-4c1b-9cad-c526bfbf8101",
   "metadata": {},
   "outputs": [],
   "source": [
    "# Specifiy onne or more precomputed precision recall sets.\n",
    "p_r_sets = ['mean_stdev', 'Gabor_2_3', 'Gabor_3_4']\n",
    "num_curves = len(p_r_sets)\n",
    "\n",
    "cwd=os.getcwd()\n",
    "\n",
    "p_r_values = np.zeros((num_curves, len(pre_defined_recall)))\n",
    "# Read each of the prevision recall sets.\n",
    "for i in range(num_curves):\n",
    "    average_precision_filename = cwd+'/precision_recall/' + p_r_sets[i] + '_p_r.txt'\n",
    "    p_r_values[i] = np.genfromtxt(average_precision_filename, delimiter=',')\n",
    "    #print(p_r_values[i])"
   ]
  },
  {
   "cell_type": "code",
   "execution_count": null,
   "id": "96d3b2c1",
   "metadata": {},
   "outputs": [],
   "source": [
    "# Plot the precision recall curves.\n",
    "\n",
    "fig = plt.figure(figsize=(10,7))\n",
    "x = pre_defined_recall\n",
    "\n",
    "# Create different plot types. Support up to six plots. Add more if needed.\n",
    "plot_type = ['*r-', '>b-', '<g-', '*y-', '>-', '<-']\n",
    "\n",
    "for i in range(num_curves):\n",
    "    y = p_r_values[i]\n",
    "    plt.plot(x, y, plot_type[i], linewidth=1, label=p_r_sets[i])\n",
    "\n",
    "plt.xticks(fontsize=15)\n",
    "plt.yticks(fontsize=15)\n",
    "\n",
    "plt.legend(fancybox=True, framealpha=1, shadow=True, borderpad=1,fontsize=10)\n",
    "plt.title(\"Recall Vs Precision Plot\",fontsize=15)\n",
    "plt.xlabel(\"Recall\",fontsize=15)\n",
    "plt.ylabel(\"Precision\",fontsize=15)\n",
    "plt.savefig(cwd+\"/\"+\"precision vs recall.png\")\n",
    "plt.show()\n",
    "\n",
    "# Print average precision.\n",
    "print(\"       Average Precision Values       \")\n",
    "for i in range(num_curves):\n",
    "    print(\"--------------------------------------\")\n",
    "    print(p_r_sets[i] + ' = ' + str(np.mean(p_r_values[i])))\n",
    "\n",
    "print(\"--------------------------------------\")\n"
   ]
  },
  {
   "cell_type": "code",
   "execution_count": null,
   "id": "4c1c6597-24cf-40c4-9388-6487d2530d78",
   "metadata": {},
   "outputs": [],
   "source": []
  }
 ],
 "metadata": {
  "kernelspec": {
   "display_name": "Python [conda env:base] *",
   "language": "python",
   "name": "conda-base-py"
  },
  "language_info": {
   "codemirror_mode": {
    "name": "ipython",
    "version": 3
   },
   "file_extension": ".py",
   "mimetype": "text/x-python",
   "name": "python",
   "nbconvert_exporter": "python",
   "pygments_lexer": "ipython3",
   "version": "3.12.7"
  }
 },
 "nbformat": 4,
 "nbformat_minor": 5
}
