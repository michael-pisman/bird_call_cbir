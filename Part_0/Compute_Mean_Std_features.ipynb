{
 "cells": [
  {
   "cell_type": "markdown",
   "id": "7a9e8a13-33dd-415e-a062-f5bd47673fe2",
   "metadata": {},
   "source": [
    "# This Notebook computes the two dimensional mean and standard deviation features from the ROI images."
   ]
  },
  {
   "cell_type": "code",
   "execution_count": 1,
   "id": "90d88425",
   "metadata": {},
   "outputs": [],
   "source": [
    "# Import section\n",
    "import numpy as np\n",
    "import matplotlib.pyplot as plt\n",
    "import os\n",
    "import pandas as pd\n",
    "import shutil"
   ]
  },
  {
   "cell_type": "code",
   "execution_count": 2,
   "id": "65fbe275",
   "metadata": {},
   "outputs": [],
   "source": [
    "cwd=os.getcwd()"
   ]
  },
  {
   "cell_type": "code",
   "execution_count": 5,
   "id": "408518c3",
   "metadata": {},
   "outputs": [],
   "source": [
    "# Create folders if they don't exist.\n",
    "try:\n",
    "    os.makedirs(cwd+'/features')\n",
    "    os.makedirs(cwd+'/images')\n",
    "except:\n",
    "    pass\n",
    "\n",
    "#Logic to copy ROI's calculated to one folder named 'image' for feature extraction\n",
    "if len(os.listdir(cwd+'/images'))==0:\n",
    "    for i in os.listdir(cwd+'/ROIs'):\n",
    "        if os.path.isdir(cwd+'/ROIs/'+i):\n",
    "            if len(os.listdir(cwd+'/ROIs/'+i+'/ROIs/'))==0:\n",
    "                print(\"Folder of ROI empty\")\n",
    "            else:\n",
    "                for j in os.listdir(cwd+'/ROIs/'+i+'/ROIs/'):\n",
    "                    shutil.copy(cwd+'/ROIs/'+i+'/ROIs/'+j,cwd+'/images')\n",
    "else:\n",
    "    pass\n",
    "#     print(\"Files exist in image folder\")\n",
    "\n",
    "# Location of images.\n",
    "image_dir = cwd + '/images/'\n",
    "\n",
    "# Location of where to write features.\n",
    "feature_dir = cwd + '/features/'\n",
    "\n",
    "# The .csv file containing the image names and classes.\n",
    "image_file = cwd + '/image_names_classes.csv'"
   ]
  },
  {
   "cell_type": "code",
   "execution_count": 6,
   "id": "d95c065c",
   "metadata": {},
   "outputs": [],
   "source": [
    "# Number of images.\n",
    "n_images = 218\n",
    "\n",
    "# Read image names and classes .csv file.\n",
    "image_names_classes = pd.read_csv(image_file, header=None )\n",
    "# print(image_names_classes[1][0])"
   ]
  },
  {
   "cell_type": "code",
   "execution_count": 7,
   "id": "b682e890",
   "metadata": {},
   "outputs": [],
   "source": [
    "# Mean + standard deviation features have dimension 2\n",
    "fdim = 2\n",
    "\n",
    "features = np.zeros((n_images, fdim))"
   ]
  },
  {
   "cell_type": "code",
   "execution_count": 8,
   "id": "484a7b98",
   "metadata": {},
   "outputs": [],
   "source": [
    "# Extract features std_mean for each image.\n",
    "for i in range(n_images):\n",
    "    \n",
    "    # Read the image.\n",
    "    filename = image_dir + image_names_classes[0][i]\n",
    "    im = plt.imread(filename)\n",
    "#     print(im.shape)\n",
    "    # It turns out that the spectrogram images saved using plt.imsave have four channels\n",
    "    # RGBA. The RGB channels are each equal to the grayscale value so we can use any of them.\n",
    "        \n",
    "    # Compute the mean of the grayscale image as the first feature dimension.\n",
    "    features[i,0] = np.mean(im[:,:,0])\n",
    "    \n",
    "    # Compute the standard deviation of the grayscale image as the second feature dimension.\n",
    "    features[i,1] = np.std(im[:,:,0])"
   ]
  },
  {
   "cell_type": "code",
   "execution_count": 9,
   "id": "7f6e689b",
   "metadata": {},
   "outputs": [],
   "source": [
    "# Save the features as a .csv file.\n",
    "feature_filename = feature_dir + 'mean_stdev.txt'\n",
    "\n",
    "np.savetxt(feature_filename, features, delimiter=',')"
   ]
  },
  {
   "cell_type": "code",
   "execution_count": null,
   "id": "74626994-270b-4fbc-846f-b4723a989ae3",
   "metadata": {},
   "outputs": [],
   "source": []
  },
  {
   "cell_type": "code",
   "execution_count": null,
   "id": "40ec9ba5-3511-4566-9959-68e8baede125",
   "metadata": {},
   "outputs": [],
   "source": []
  }
 ],
 "metadata": {
  "kernelspec": {
   "display_name": ".venv (3.13.1)",
   "language": "python",
   "name": "python3"
  },
  "language_info": {
   "codemirror_mode": {
    "name": "ipython",
    "version": 3
   },
   "file_extension": ".py",
   "mimetype": "text/x-python",
   "name": "python",
   "nbconvert_exporter": "python",
   "pygments_lexer": "ipython3",
   "version": "3.13.1"
  }
 },
 "nbformat": 4,
 "nbformat_minor": 5
}
