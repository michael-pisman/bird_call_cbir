{
 "cells": [
  {
   "cell_type": "markdown",
   "id": "7a9e8a13-33dd-415e-a062-f5bd47673fe2",
   "metadata": {},
   "source": [
    "# This Notebook performs retrivel queries for one set of image features."
   ]
  },
  {
   "cell_type": "code",
   "execution_count": 41,
   "id": "90d88425",
   "metadata": {},
   "outputs": [],
   "source": [
    "# Import section\n",
    "import numpy as np\n",
    "import matplotlib.pyplot as plt\n",
    "import os\n",
    "import pandas as pd\n",
    "from skimage.filters import gabor_kernel\n",
    "from scipy import signal as sg\n",
    "from collections import OrderedDict\n",
    "import math"
   ]
  },
  {
   "cell_type": "code",
   "execution_count": 40,
   "id": "45220136-960b-4c1b-9cad-c526bfbf8101",
   "metadata": {},
   "outputs": [
    {
     "name": "stdout",
     "output_type": "stream",
     "text": [
      "Gabor_3_4 features have dimension:24\n"
     ]
    }
   ],
   "source": [
    "# Feature type.\n",
    "# feature_type = 'mean_stdev'\n",
    "# feature_type = 'Gabor_2_3'\n",
    "feature_type = 'Gabor_3_4'\n",
    "\n",
    "cwd=os.getcwd()\n",
    "\n",
    "# The filename with the features to use (including the folder).\n",
    "feature_filename = cwd+'/features/'+feature_type + '.txt'\n",
    "#print(\"Feature filename: \" + feature_filename)\n",
    "\n",
    "# Read the features.\n",
    "features = np.genfromtxt(feature_filename, delimiter=',')\n",
    "\n",
    "fdim = np.shape(features)[1]\n",
    "print(feature_type + ' features have dimension:' + str(fdim))"
   ]
  },
  {
   "cell_type": "code",
   "execution_count": 29,
   "id": "d95c065c",
   "metadata": {},
   "outputs": [],
   "source": [
    "# Number of images.\n",
    "n_images = 218\n",
    "\n",
    "# Read image names and classes .csv file.\n",
    "# The .csv file containing the image names and classes.\n",
    "image_file = cwd + '/image_names_classes.csv'\n",
    "image_names_classes = pd.read_csv(image_file, header=None )"
   ]
  },
  {
   "cell_type": "code",
   "execution_count": 30,
   "id": "8e53f83a",
   "metadata": {},
   "outputs": [],
   "source": [
    "# Dictionary to store precision and recall for the queries performed.\n",
    "precision_recall = OrderedDict()"
   ]
  },
  {
   "cell_type": "code",
   "execution_count": 31,
   "id": "2b39109e",
   "metadata": {},
   "outputs": [],
   "source": [
    "# Dictionary to store the class and class size of birds.\n",
    "bird_class_size_dict = OrderedDict()\n",
    "\n",
    "# Where the ROI .csv files are located.\n",
    "rois_dir = cwd + '/ROIs/'\n",
    "\n",
    "# The .csv file with the info about the ROIs.\n",
    "rois_info_file = cwd+'/ROIs/birds.csv'\n",
    "rois_info = pd.read_csv(rois_info_file)\n",
    "\n",
    "# Store the class and class size of birds.\n",
    "for i in range(len(list(rois_info['bird']))):\n",
    "    bird_class_size_dict[i+1]=rois_info['roi_count'].iloc[i]\n",
    "\n",
    "# Number of images.\n",
    "n_images = 218"
   ]
  },
  {
   "cell_type": "code",
   "execution_count": 32,
   "id": "9facade8-8955-49ef-912f-24af32861612",
   "metadata": {},
   "outputs": [],
   "source": [
    "def L2_dist(feature1, feature2):\n",
    "    # Get dimension.\n",
    "    dim = np.shape(feature1)[0]\n",
    "\n",
    "    result = 0\n",
    "    for k in range(dim):\n",
    "        result = result + ((feature1[k] - feature2[k])**2)\n",
    "    result = result ** 0.5\n",
    "\n",
    "    return(result)\n",
    "\n",
    "def L1_dist(feature1, feature2):\n",
    "    # Get dimension.\n",
    "    dim = np.shape(feature1)[0]\n",
    "\n",
    "    result = 0\n",
    "    for k in range(dim):\n",
    "        result = result + abs(feature1[k] - feature2[k])\n",
    "\n",
    "    return(result)"
   ]
  },
  {
   "cell_type": "code",
   "execution_count": 33,
   "id": "e9f989d7",
   "metadata": {},
   "outputs": [],
   "source": [
    "# Perform the retrievals using each image as a query.\n",
    "for query_image in range(n_images):\n",
    "    # Compute distance between query feature vector and every target image's feature vector (including the query).\n",
    "    distances = np.zeros(n_images)\n",
    "            \n",
    "    for j in range(n_images):\n",
    "        # Can choose difference distance measures;\n",
    "#        distances[j] = L1_dist(features[query_image], features[j])\n",
    "        distances[j] = L2_dist(features[query_image], features[j])\n",
    "#        print('distances['+str(j)+'] = '+str(distances[j]))\n",
    "                \n",
    "    # Get the indices of the sorted distances.\n",
    "    sorted_index = np.argsort(distances)\n",
    "    \n",
    "    # Get the class and class size of query image\n",
    "    class_qimg=image_names_classes[1][query_image]\n",
    "    class_qimg_size= bird_class_size_dict[class_qimg]\n",
    "\n",
    "    temp_prec_arr=[]\n",
    "    temp_recal_arr=[]\n",
    "\n",
    "    # Compute precision and recall for different number of retrieved images.\n",
    "    for k in range(1,n_images+1):\n",
    "        prec_num=0\n",
    "        prec_denom=k\n",
    "        recal_denom=class_qimg_size\n",
    "        recal_num=0\n",
    "        for z in sorted_index[0:k]:\n",
    "            if class_qimg==image_names_classes[1][z]:\n",
    "                 prec_num+=1\n",
    "                 recal_num+=1\n",
    "        temp_prec_arr.append(prec_num/prec_denom)\n",
    "        temp_recal_arr.append(recal_num/recal_denom)\n",
    "\n",
    "        precision_recall[query_image]=[temp_prec_arr,temp_recal_arr]"
   ]
  },
  {
   "cell_type": "markdown",
   "id": "12f7c278",
   "metadata": {},
   "source": [
    "### Interpolate precision for fixed recall values."
   ]
  },
  {
   "cell_type": "code",
   "execution_count": 34,
   "id": "97739e46",
   "metadata": {},
   "outputs": [],
   "source": [
    "pre_defined_recall = [0.0,0.1,0.2,0.3,0.4,0.5,0.6,0.7,0.8,0.9,1.0]"
   ]
  },
  {
   "cell_type": "code",
   "execution_count": 35,
   "id": "2ce8bd5e",
   "metadata": {},
   "outputs": [],
   "source": [
    "# Empty dictionary to hold the interpolated values.\n",
    "precision_recall_inter = OrderedDict()"
   ]
  },
  {
   "cell_type": "code",
   "execution_count": 36,
   "id": "ffa8ffbb",
   "metadata": {},
   "outputs": [],
   "source": [
    "#Function to return the interpolated precision value\n",
    "\n",
    "def interpolate_p_r(p_arr,r_arr):\n",
    "    temp_p=[]\n",
    "    for i in pre_defined_recall: \n",
    "        for j in range(len(r_arr)):\n",
    "            if r_arr[j]>=i:\n",
    "                temp_p.append(p_arr[j])\n",
    "                break\n",
    "    return temp_p    "
   ]
  },
  {
   "cell_type": "code",
   "execution_count": 37,
   "id": "545bc603",
   "metadata": {},
   "outputs": [],
   "source": [
    "# Interpolate precision values at fixed recall values.\n",
    "for k,v in precision_recall.items():\n",
    "    ans = interpolate_p_r(v[0],v[1])\n",
    "    precision_recall_inter[k] = ans"
   ]
  },
  {
   "cell_type": "code",
   "execution_count": 38,
   "id": "65052143",
   "metadata": {},
   "outputs": [
    {
     "name": "stdout",
     "output_type": "stream",
     "text": [
      "[1.         0.90048965 0.79901856 0.74876807 0.70807945 0.64719684\n",
      " 0.61850895 0.56327892 0.47290732 0.39819197 0.32843474]\n"
     ]
    }
   ],
   "source": [
    "# Average the interpolated precision values over all queries.\n",
    "average_prec = np.zeros(len(pre_defined_recall))\n",
    "for k,v in precision_recall_inter.items():\n",
    "    average_prec=np.add(average_prec,v)\n",
    "for i in range(len(average_prec)):\n",
    "    average_prec[i]=average_prec[i]/n_images\n",
    "\n",
    "print(average_prec)\n"
   ]
  },
  {
   "cell_type": "code",
   "execution_count": 39,
   "id": "b9321950-c777-4119-a749-aa55a7738a90",
   "metadata": {},
   "outputs": [],
   "source": [
    "# Create precision_recall folder if it doesn't exist.\n",
    "try:\n",
    "    os.makedirs(cwd+'/precision_recall')\n",
    "except:\n",
    "    pass\n",
    "\n",
    "# Save the average precision values as a .csv file.\n",
    "average_precision_filename = cwd+'/precision_recall/' + feature_type + '_p_r.txt'\n",
    "\n",
    "np.savetxt(average_precision_filename, average_prec, delimiter=',')"
   ]
  },
  {
   "cell_type": "code",
   "execution_count": null,
   "id": "4dce566c-1871-417f-aee2-beedf7d3d17c",
   "metadata": {},
   "outputs": [],
   "source": []
  }
 ],
 "metadata": {
  "kernelspec": {
   "display_name": ".venv (3.13.1)",
   "language": "python",
   "name": "python3"
  },
  "language_info": {
   "codemirror_mode": {
    "name": "ipython",
    "version": 3
   },
   "file_extension": ".py",
   "mimetype": "text/x-python",
   "name": "python",
   "nbconvert_exporter": "python",
   "pygments_lexer": "ipython3",
   "version": "3.13.1"
  }
 },
 "nbformat": 4,
 "nbformat_minor": 5
}
